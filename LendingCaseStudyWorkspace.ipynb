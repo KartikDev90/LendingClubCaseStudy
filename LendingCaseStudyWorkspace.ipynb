{
 "cells": [
  {
   "cell_type": "code",
   "execution_count": 2,
   "metadata": {},
   "outputs": [],
   "source": [
    "# Initialize Libraries\n",
    "\n",
    "import numpy as np\n",
    "import pandas as pd\n",
    "import matplotlib.pyplot as plt\n",
    "import seaborn as sns\n",
    "import warnings\n",
    "#ignore warnings\n",
    "warnings.filterwarnings('ignore') "
   ]
  },
  {
   "cell_type": "markdown",
   "metadata": {},
   "source": [
    "## Read csv file"
   ]
  },
  {
   "cell_type": "code",
   "execution_count": 4,
   "metadata": {},
   "outputs": [
    {
     "data": {
      "text/plain": [
       "(39717, 111)"
      ]
     },
     "execution_count": 4,
     "metadata": {},
     "output_type": "execute_result"
    }
   ],
   "source": [
    "#read the csv file and load data to dataframe\n",
    "loan_df = pd.read_csv(\"loan.csv\")\n",
    "loan_df.shape"
   ]
  },
  {
   "cell_type": "code",
   "execution_count": 5,
   "metadata": {},
   "outputs": [
    {
     "data": {
      "text/html": [
       "<div>\n",
       "<style scoped>\n",
       "    .dataframe tbody tr th:only-of-type {\n",
       "        vertical-align: middle;\n",
       "    }\n",
       "\n",
       "    .dataframe tbody tr th {\n",
       "        vertical-align: top;\n",
       "    }\n",
       "\n",
       "    .dataframe thead th {\n",
       "        text-align: right;\n",
       "    }\n",
       "</style>\n",
       "<table border=\"1\" class=\"dataframe\">\n",
       "  <thead>\n",
       "    <tr style=\"text-align: right;\">\n",
       "      <th></th>\n",
       "      <th>id</th>\n",
       "      <th>member_id</th>\n",
       "      <th>loan_amnt</th>\n",
       "      <th>funded_amnt</th>\n",
       "      <th>funded_amnt_inv</th>\n",
       "      <th>term</th>\n",
       "      <th>int_rate</th>\n",
       "      <th>installment</th>\n",
       "      <th>grade</th>\n",
       "      <th>sub_grade</th>\n",
       "      <th>...</th>\n",
       "      <th>num_tl_90g_dpd_24m</th>\n",
       "      <th>num_tl_op_past_12m</th>\n",
       "      <th>pct_tl_nvr_dlq</th>\n",
       "      <th>percent_bc_gt_75</th>\n",
       "      <th>pub_rec_bankruptcies</th>\n",
       "      <th>tax_liens</th>\n",
       "      <th>tot_hi_cred_lim</th>\n",
       "      <th>total_bal_ex_mort</th>\n",
       "      <th>total_bc_limit</th>\n",
       "      <th>total_il_high_credit_limit</th>\n",
       "    </tr>\n",
       "  </thead>\n",
       "  <tbody>\n",
       "    <tr>\n",
       "      <th>0</th>\n",
       "      <td>1077501</td>\n",
       "      <td>1296599</td>\n",
       "      <td>5000</td>\n",
       "      <td>5000</td>\n",
       "      <td>4975.0</td>\n",
       "      <td>36 months</td>\n",
       "      <td>10.65%</td>\n",
       "      <td>162.87</td>\n",
       "      <td>B</td>\n",
       "      <td>B2</td>\n",
       "      <td>...</td>\n",
       "      <td>NaN</td>\n",
       "      <td>NaN</td>\n",
       "      <td>NaN</td>\n",
       "      <td>NaN</td>\n",
       "      <td>0.0</td>\n",
       "      <td>0.0</td>\n",
       "      <td>NaN</td>\n",
       "      <td>NaN</td>\n",
       "      <td>NaN</td>\n",
       "      <td>NaN</td>\n",
       "    </tr>\n",
       "    <tr>\n",
       "      <th>1</th>\n",
       "      <td>1077430</td>\n",
       "      <td>1314167</td>\n",
       "      <td>2500</td>\n",
       "      <td>2500</td>\n",
       "      <td>2500.0</td>\n",
       "      <td>60 months</td>\n",
       "      <td>15.27%</td>\n",
       "      <td>59.83</td>\n",
       "      <td>C</td>\n",
       "      <td>C4</td>\n",
       "      <td>...</td>\n",
       "      <td>NaN</td>\n",
       "      <td>NaN</td>\n",
       "      <td>NaN</td>\n",
       "      <td>NaN</td>\n",
       "      <td>0.0</td>\n",
       "      <td>0.0</td>\n",
       "      <td>NaN</td>\n",
       "      <td>NaN</td>\n",
       "      <td>NaN</td>\n",
       "      <td>NaN</td>\n",
       "    </tr>\n",
       "    <tr>\n",
       "      <th>2</th>\n",
       "      <td>1077175</td>\n",
       "      <td>1313524</td>\n",
       "      <td>2400</td>\n",
       "      <td>2400</td>\n",
       "      <td>2400.0</td>\n",
       "      <td>36 months</td>\n",
       "      <td>15.96%</td>\n",
       "      <td>84.33</td>\n",
       "      <td>C</td>\n",
       "      <td>C5</td>\n",
       "      <td>...</td>\n",
       "      <td>NaN</td>\n",
       "      <td>NaN</td>\n",
       "      <td>NaN</td>\n",
       "      <td>NaN</td>\n",
       "      <td>0.0</td>\n",
       "      <td>0.0</td>\n",
       "      <td>NaN</td>\n",
       "      <td>NaN</td>\n",
       "      <td>NaN</td>\n",
       "      <td>NaN</td>\n",
       "    </tr>\n",
       "    <tr>\n",
       "      <th>3</th>\n",
       "      <td>1076863</td>\n",
       "      <td>1277178</td>\n",
       "      <td>10000</td>\n",
       "      <td>10000</td>\n",
       "      <td>10000.0</td>\n",
       "      <td>36 months</td>\n",
       "      <td>13.49%</td>\n",
       "      <td>339.31</td>\n",
       "      <td>C</td>\n",
       "      <td>C1</td>\n",
       "      <td>...</td>\n",
       "      <td>NaN</td>\n",
       "      <td>NaN</td>\n",
       "      <td>NaN</td>\n",
       "      <td>NaN</td>\n",
       "      <td>0.0</td>\n",
       "      <td>0.0</td>\n",
       "      <td>NaN</td>\n",
       "      <td>NaN</td>\n",
       "      <td>NaN</td>\n",
       "      <td>NaN</td>\n",
       "    </tr>\n",
       "    <tr>\n",
       "      <th>4</th>\n",
       "      <td>1075358</td>\n",
       "      <td>1311748</td>\n",
       "      <td>3000</td>\n",
       "      <td>3000</td>\n",
       "      <td>3000.0</td>\n",
       "      <td>60 months</td>\n",
       "      <td>12.69%</td>\n",
       "      <td>67.79</td>\n",
       "      <td>B</td>\n",
       "      <td>B5</td>\n",
       "      <td>...</td>\n",
       "      <td>NaN</td>\n",
       "      <td>NaN</td>\n",
       "      <td>NaN</td>\n",
       "      <td>NaN</td>\n",
       "      <td>0.0</td>\n",
       "      <td>0.0</td>\n",
       "      <td>NaN</td>\n",
       "      <td>NaN</td>\n",
       "      <td>NaN</td>\n",
       "      <td>NaN</td>\n",
       "    </tr>\n",
       "  </tbody>\n",
       "</table>\n",
       "<p>5 rows × 111 columns</p>\n",
       "</div>"
      ],
      "text/plain": [
       "        id  member_id  loan_amnt  funded_amnt  funded_amnt_inv        term  \\\n",
       "0  1077501    1296599       5000         5000           4975.0   36 months   \n",
       "1  1077430    1314167       2500         2500           2500.0   60 months   \n",
       "2  1077175    1313524       2400         2400           2400.0   36 months   \n",
       "3  1076863    1277178      10000        10000          10000.0   36 months   \n",
       "4  1075358    1311748       3000         3000           3000.0   60 months   \n",
       "\n",
       "  int_rate  installment grade sub_grade  ... num_tl_90g_dpd_24m  \\\n",
       "0   10.65%       162.87     B        B2  ...                NaN   \n",
       "1   15.27%        59.83     C        C4  ...                NaN   \n",
       "2   15.96%        84.33     C        C5  ...                NaN   \n",
       "3   13.49%       339.31     C        C1  ...                NaN   \n",
       "4   12.69%        67.79     B        B5  ...                NaN   \n",
       "\n",
       "  num_tl_op_past_12m pct_tl_nvr_dlq  percent_bc_gt_75 pub_rec_bankruptcies  \\\n",
       "0                NaN            NaN               NaN                  0.0   \n",
       "1                NaN            NaN               NaN                  0.0   \n",
       "2                NaN            NaN               NaN                  0.0   \n",
       "3                NaN            NaN               NaN                  0.0   \n",
       "4                NaN            NaN               NaN                  0.0   \n",
       "\n",
       "  tax_liens tot_hi_cred_lim total_bal_ex_mort total_bc_limit  \\\n",
       "0       0.0             NaN               NaN            NaN   \n",
       "1       0.0             NaN               NaN            NaN   \n",
       "2       0.0             NaN               NaN            NaN   \n",
       "3       0.0             NaN               NaN            NaN   \n",
       "4       0.0             NaN               NaN            NaN   \n",
       "\n",
       "  total_il_high_credit_limit  \n",
       "0                        NaN  \n",
       "1                        NaN  \n",
       "2                        NaN  \n",
       "3                        NaN  \n",
       "4                        NaN  \n",
       "\n",
       "[5 rows x 111 columns]"
      ]
     },
     "execution_count": 5,
     "metadata": {},
     "output_type": "execute_result"
    }
   ],
   "source": [
    "loan_df.head()"
   ]
  },
  {
   "cell_type": "code",
   "execution_count": 12,
   "metadata": {},
   "outputs": [
    {
     "data": {
      "text/plain": [
       "loan_status\n",
       "Fully Paid     32950\n",
       "Charged Off     5627\n",
       "Current         1140\n",
       "Name: count, dtype: int64"
      ]
     },
     "execution_count": 12,
     "metadata": {},
     "output_type": "execute_result"
    }
   ],
   "source": [
    "#get the loan status coumn values\n",
    "loan_df['loan_status'].value_counts()"
   ]
  },
  {
   "cell_type": "code",
   "execution_count": 13,
   "metadata": {},
   "outputs": [],
   "source": [
    "# dropping the rows with value as 'Current' in loan_status column as it is not required to be considered in our data preparation\n",
    "\n",
    "loan_df = loan_df[loan_df['loan_status']!='current'] "
   ]
  },
  {
   "cell_type": "code",
   "execution_count": 16,
   "metadata": {},
   "outputs": [
    {
     "data": {
      "text/plain": [
       "['mths_since_last_major_derog',\n",
       " 'annual_inc_joint',\n",
       " 'dti_joint',\n",
       " 'verification_status_joint',\n",
       " 'tot_coll_amt',\n",
       " 'tot_cur_bal',\n",
       " 'open_acc_6m',\n",
       " 'open_il_6m',\n",
       " 'open_il_12m',\n",
       " 'open_il_24m',\n",
       " 'mths_since_rcnt_il',\n",
       " 'total_bal_il',\n",
       " 'il_util',\n",
       " 'open_rv_12m',\n",
       " 'open_rv_24m',\n",
       " 'max_bal_bc',\n",
       " 'all_util',\n",
       " 'total_rev_hi_lim',\n",
       " 'inq_fi',\n",
       " 'total_cu_tl',\n",
       " 'inq_last_12m',\n",
       " 'acc_open_past_24mths',\n",
       " 'avg_cur_bal',\n",
       " 'bc_open_to_buy',\n",
       " 'bc_util',\n",
       " 'mo_sin_old_il_acct',\n",
       " 'mo_sin_old_rev_tl_op',\n",
       " 'mo_sin_rcnt_rev_tl_op',\n",
       " 'mo_sin_rcnt_tl',\n",
       " 'mort_acc',\n",
       " 'mths_since_recent_bc',\n",
       " 'mths_since_recent_bc_dlq',\n",
       " 'mths_since_recent_inq',\n",
       " 'mths_since_recent_revol_delinq',\n",
       " 'num_accts_ever_120_pd',\n",
       " 'num_actv_bc_tl',\n",
       " 'num_actv_rev_tl',\n",
       " 'num_bc_sats',\n",
       " 'num_bc_tl',\n",
       " 'num_il_tl',\n",
       " 'num_op_rev_tl',\n",
       " 'num_rev_accts',\n",
       " 'num_rev_tl_bal_gt_0',\n",
       " 'num_sats',\n",
       " 'num_tl_120dpd_2m',\n",
       " 'num_tl_30dpd',\n",
       " 'num_tl_90g_dpd_24m',\n",
       " 'num_tl_op_past_12m',\n",
       " 'pct_tl_nvr_dlq',\n",
       " 'percent_bc_gt_75',\n",
       " 'tot_hi_cred_lim',\n",
       " 'total_bal_ex_mort',\n",
       " 'total_bc_limit',\n",
       " 'total_il_high_credit_limit']"
      ]
     },
     "execution_count": 16,
     "metadata": {},
     "output_type": "execute_result"
    }
   ],
   "source": [
    "#Check all teh columns with null values\n",
    "\n",
    "columns_na = list(loan_df.columns[loan_df.isna().all()])\n",
    "\n",
    "columns_na"
   ]
  },
  {
   "cell_type": "code",
   "execution_count": 17,
   "metadata": {},
   "outputs": [
    {
     "data": {
      "text/html": [
       "<div>\n",
       "<style scoped>\n",
       "    .dataframe tbody tr th:only-of-type {\n",
       "        vertical-align: middle;\n",
       "    }\n",
       "\n",
       "    .dataframe tbody tr th {\n",
       "        vertical-align: top;\n",
       "    }\n",
       "\n",
       "    .dataframe thead th {\n",
       "        text-align: right;\n",
       "    }\n",
       "</style>\n",
       "<table border=\"1\" class=\"dataframe\">\n",
       "  <thead>\n",
       "    <tr style=\"text-align: right;\">\n",
       "      <th></th>\n",
       "      <th>id</th>\n",
       "      <th>member_id</th>\n",
       "      <th>loan_amnt</th>\n",
       "      <th>funded_amnt</th>\n",
       "      <th>funded_amnt_inv</th>\n",
       "      <th>term</th>\n",
       "      <th>int_rate</th>\n",
       "      <th>installment</th>\n",
       "      <th>grade</th>\n",
       "      <th>sub_grade</th>\n",
       "      <th>...</th>\n",
       "      <th>next_pymnt_d</th>\n",
       "      <th>last_credit_pull_d</th>\n",
       "      <th>collections_12_mths_ex_med</th>\n",
       "      <th>policy_code</th>\n",
       "      <th>application_type</th>\n",
       "      <th>acc_now_delinq</th>\n",
       "      <th>chargeoff_within_12_mths</th>\n",
       "      <th>delinq_amnt</th>\n",
       "      <th>pub_rec_bankruptcies</th>\n",
       "      <th>tax_liens</th>\n",
       "    </tr>\n",
       "  </thead>\n",
       "  <tbody>\n",
       "    <tr>\n",
       "      <th>0</th>\n",
       "      <td>1077501</td>\n",
       "      <td>1296599</td>\n",
       "      <td>5000</td>\n",
       "      <td>5000</td>\n",
       "      <td>4975.0</td>\n",
       "      <td>36 months</td>\n",
       "      <td>10.65%</td>\n",
       "      <td>162.87</td>\n",
       "      <td>B</td>\n",
       "      <td>B2</td>\n",
       "      <td>...</td>\n",
       "      <td>NaN</td>\n",
       "      <td>May-16</td>\n",
       "      <td>0.0</td>\n",
       "      <td>1</td>\n",
       "      <td>INDIVIDUAL</td>\n",
       "      <td>0</td>\n",
       "      <td>0.0</td>\n",
       "      <td>0</td>\n",
       "      <td>0.0</td>\n",
       "      <td>0.0</td>\n",
       "    </tr>\n",
       "    <tr>\n",
       "      <th>1</th>\n",
       "      <td>1077430</td>\n",
       "      <td>1314167</td>\n",
       "      <td>2500</td>\n",
       "      <td>2500</td>\n",
       "      <td>2500.0</td>\n",
       "      <td>60 months</td>\n",
       "      <td>15.27%</td>\n",
       "      <td>59.83</td>\n",
       "      <td>C</td>\n",
       "      <td>C4</td>\n",
       "      <td>...</td>\n",
       "      <td>NaN</td>\n",
       "      <td>Sep-13</td>\n",
       "      <td>0.0</td>\n",
       "      <td>1</td>\n",
       "      <td>INDIVIDUAL</td>\n",
       "      <td>0</td>\n",
       "      <td>0.0</td>\n",
       "      <td>0</td>\n",
       "      <td>0.0</td>\n",
       "      <td>0.0</td>\n",
       "    </tr>\n",
       "    <tr>\n",
       "      <th>2</th>\n",
       "      <td>1077175</td>\n",
       "      <td>1313524</td>\n",
       "      <td>2400</td>\n",
       "      <td>2400</td>\n",
       "      <td>2400.0</td>\n",
       "      <td>36 months</td>\n",
       "      <td>15.96%</td>\n",
       "      <td>84.33</td>\n",
       "      <td>C</td>\n",
       "      <td>C5</td>\n",
       "      <td>...</td>\n",
       "      <td>NaN</td>\n",
       "      <td>May-16</td>\n",
       "      <td>0.0</td>\n",
       "      <td>1</td>\n",
       "      <td>INDIVIDUAL</td>\n",
       "      <td>0</td>\n",
       "      <td>0.0</td>\n",
       "      <td>0</td>\n",
       "      <td>0.0</td>\n",
       "      <td>0.0</td>\n",
       "    </tr>\n",
       "    <tr>\n",
       "      <th>3</th>\n",
       "      <td>1076863</td>\n",
       "      <td>1277178</td>\n",
       "      <td>10000</td>\n",
       "      <td>10000</td>\n",
       "      <td>10000.0</td>\n",
       "      <td>36 months</td>\n",
       "      <td>13.49%</td>\n",
       "      <td>339.31</td>\n",
       "      <td>C</td>\n",
       "      <td>C1</td>\n",
       "      <td>...</td>\n",
       "      <td>NaN</td>\n",
       "      <td>Apr-16</td>\n",
       "      <td>0.0</td>\n",
       "      <td>1</td>\n",
       "      <td>INDIVIDUAL</td>\n",
       "      <td>0</td>\n",
       "      <td>0.0</td>\n",
       "      <td>0</td>\n",
       "      <td>0.0</td>\n",
       "      <td>0.0</td>\n",
       "    </tr>\n",
       "    <tr>\n",
       "      <th>4</th>\n",
       "      <td>1075358</td>\n",
       "      <td>1311748</td>\n",
       "      <td>3000</td>\n",
       "      <td>3000</td>\n",
       "      <td>3000.0</td>\n",
       "      <td>60 months</td>\n",
       "      <td>12.69%</td>\n",
       "      <td>67.79</td>\n",
       "      <td>B</td>\n",
       "      <td>B5</td>\n",
       "      <td>...</td>\n",
       "      <td>Jun-16</td>\n",
       "      <td>May-16</td>\n",
       "      <td>0.0</td>\n",
       "      <td>1</td>\n",
       "      <td>INDIVIDUAL</td>\n",
       "      <td>0</td>\n",
       "      <td>0.0</td>\n",
       "      <td>0</td>\n",
       "      <td>0.0</td>\n",
       "      <td>0.0</td>\n",
       "    </tr>\n",
       "  </tbody>\n",
       "</table>\n",
       "<p>5 rows × 57 columns</p>\n",
       "</div>"
      ],
      "text/plain": [
       "        id  member_id  loan_amnt  funded_amnt  funded_amnt_inv        term  \\\n",
       "0  1077501    1296599       5000         5000           4975.0   36 months   \n",
       "1  1077430    1314167       2500         2500           2500.0   60 months   \n",
       "2  1077175    1313524       2400         2400           2400.0   36 months   \n",
       "3  1076863    1277178      10000        10000          10000.0   36 months   \n",
       "4  1075358    1311748       3000         3000           3000.0   60 months   \n",
       "\n",
       "  int_rate  installment grade sub_grade  ... next_pymnt_d last_credit_pull_d  \\\n",
       "0   10.65%       162.87     B        B2  ...          NaN             May-16   \n",
       "1   15.27%        59.83     C        C4  ...          NaN             Sep-13   \n",
       "2   15.96%        84.33     C        C5  ...          NaN             May-16   \n",
       "3   13.49%       339.31     C        C1  ...          NaN             Apr-16   \n",
       "4   12.69%        67.79     B        B5  ...       Jun-16             May-16   \n",
       "\n",
       "  collections_12_mths_ex_med  policy_code application_type acc_now_delinq  \\\n",
       "0                        0.0            1       INDIVIDUAL              0   \n",
       "1                        0.0            1       INDIVIDUAL              0   \n",
       "2                        0.0            1       INDIVIDUAL              0   \n",
       "3                        0.0            1       INDIVIDUAL              0   \n",
       "4                        0.0            1       INDIVIDUAL              0   \n",
       "\n",
       "  chargeoff_within_12_mths delinq_amnt pub_rec_bankruptcies tax_liens  \n",
       "0                      0.0           0                  0.0       0.0  \n",
       "1                      0.0           0                  0.0       0.0  \n",
       "2                      0.0           0                  0.0       0.0  \n",
       "3                      0.0           0                  0.0       0.0  \n",
       "4                      0.0           0                  0.0       0.0  \n",
       "\n",
       "[5 rows x 57 columns]"
      ]
     },
     "execution_count": 17,
     "metadata": {},
     "output_type": "execute_result"
    }
   ],
   "source": [
    "# drop columns which has all the values as null\n",
    "\n",
    "loan_df = loan_df.dropna(axis=1,how='all')\n",
    "\n",
    "loan_df.head()"
   ]
  },
  {
   "cell_type": "code",
   "execution_count": 19,
   "metadata": {},
   "outputs": [
    {
     "data": {
      "text/plain": [
       "[]"
      ]
     },
     "execution_count": 19,
     "metadata": {},
     "output_type": "execute_result"
    }
   ],
   "source": [
    "#Check again for the columns with all the values as null values\n",
    "\n",
    "columns_na = list(loan_df.columns[loan_df.isna().all()])\n",
    "\n",
    "columns_na"
   ]
  },
  {
   "cell_type": "code",
   "execution_count": 20,
   "metadata": {},
   "outputs": [
    {
     "data": {
      "text/plain": [
       "(39717, 55)"
      ]
     },
     "execution_count": 20,
     "metadata": {},
     "output_type": "execute_result"
    }
   ],
   "source": [
    "# Delete the columns which contains text and descriptions\n",
    "\n",
    "loan_df.drop(columns=['desc','title'],inplace=True)\n",
    "loan_df.shape"
   ]
  },
  {
   "cell_type": "code",
   "execution_count": 21,
   "metadata": {},
   "outputs": [
    {
     "data": {
      "text/plain": [
       "['id', 'member_id', 'url']"
      ]
     },
     "execution_count": 21,
     "metadata": {},
     "output_type": "execute_result"
    }
   ],
   "source": [
    "# Identify all the columns which are unique in nature i.e it contains id'or url'\n",
    "\n",
    "unique_col = [col for col in loan_df.columns if loan_df[col].nunique() == len(loan_df)]\n",
    "\n",
    "unique_col"
   ]
  },
  {
   "cell_type": "code",
   "execution_count": 22,
   "metadata": {},
   "outputs": [],
   "source": [
    "# Delete all the columns which are unique in nature i.e it contains id'or url'\n",
    "\n",
    "loan_df.drop(['id','member_id','url'],axis=1,inplace=True)\n"
   ]
  },
  {
   "cell_type": "code",
   "execution_count": 23,
   "metadata": {},
   "outputs": [
    {
     "data": {
      "text/plain": [
       "(39717, 52)"
      ]
     },
     "execution_count": 23,
     "metadata": {},
     "output_type": "execute_result"
    }
   ],
   "source": [
    "#check the shape of df\n",
    "loan_df.shape"
   ]
  },
  {
   "cell_type": "code",
   "execution_count": null,
   "metadata": {},
   "outputs": [
    {
     "data": {
      "text/plain": [
       "tax_liens                         1\n",
       "delinq_amnt                       1\n",
       "chargeoff_within_12_mths          1\n",
       "acc_now_delinq                    1\n",
       "application_type                  1\n",
       "policy_code                       1\n",
       "initial_list_status               1\n",
       "pymnt_plan                        1\n",
       "collections_12_mths_ex_med        1\n",
       "term                              2\n",
       "next_pymnt_d                      2\n",
       "pub_rec_bankruptcies              3\n",
       "verification_status               3\n",
       "loan_status                       3\n",
       "pub_rec                           5\n",
       "home_ownership                    5\n",
       "grade                             7\n",
       "inq_last_6mths                    9\n",
       "emp_length                       11\n",
       "delinq_2yrs                      11\n",
       "purpose                          14\n",
       "sub_grade                        35\n",
       "open_acc                         40\n",
       "addr_state                       50\n",
       "issue_d                          55\n",
       "total_acc                        82\n",
       "mths_since_last_delinq           95\n",
       "last_pymnt_d                    101\n",
       "last_credit_pull_d              106\n",
       "mths_since_last_record          111\n",
       "int_rate                        371\n",
       "earliest_cr_line                526\n",
       "zip_code                        823\n",
       "loan_amnt                       885\n",
       "funded_amnt                    1041\n",
       "revol_util                     1089\n",
       "out_prncp                      1137\n",
       "out_prncp_inv                  1138\n",
       "total_rec_late_fee             1356\n",
       "collection_recovery_fee        2616\n",
       "dti                            2868\n",
       "recoveries                     4040\n",
       "annual_inc                     5318\n",
       "total_rec_prncp                7976\n",
       "funded_amnt_inv                8205\n",
       "installment                   15383\n",
       "revol_bal                     21711\n",
       "emp_title                     28820\n",
       "last_pymnt_amnt               34930\n",
       "total_rec_int                 35148\n",
       "total_pymnt_inv               37518\n",
       "total_pymnt                   37850\n",
       "dtype: int64"
      ]
     },
     "execution_count": 25,
     "metadata": {},
     "output_type": "execute_result"
    }
   ],
   "source": [
    "#check the columns with unique values\n",
    "loan_df.nunique().sort_values()"
   ]
  },
  {
   "cell_type": "code",
   "execution_count": 26,
   "metadata": {},
   "outputs": [],
   "source": [
    "# Drop columns which is having single values in all the rows\n",
    "loan_df.drop(['tax_liens','delinq_amnt','chargeoff_within_12_mths','acc_now_delinq','application_type','policy_code','initial_list_status','pymnt_plan','collections_12_mths_ex_med'],axis=1,inplace=True)"
   ]
  },
  {
   "cell_type": "code",
   "execution_count": 27,
   "metadata": {},
   "outputs": [
    {
     "data": {
      "text/plain": [
       "(39717, 43)"
      ]
     },
     "execution_count": 27,
     "metadata": {},
     "output_type": "execute_result"
    }
   ],
   "source": [
    "#check the shape of df\n",
    "loan_df.shape"
   ]
  },
  {
   "cell_type": "code",
   "execution_count": 35,
   "metadata": {},
   "outputs": [
    {
     "name": "stdout",
     "output_type": "stream",
     "text": [
      "mths_since_last_delinq\n",
      "mths_since_last_record\n",
      "next_pymnt_d\n"
     ]
    }
   ],
   "source": [
    "# dropping columns which has more than 50% of the values has null values\n",
    "\n",
    "total_rows = len(loan_df)\n",
    "for col in loan_df.columns:\n",
    "    if loan_df[col].isna().mean().round(2) >=0.50:\n",
    "        print(col)\n",
    "        loan_df.drop(col,axis=1,inplace=True)"
   ]
  },
  {
   "cell_type": "code",
   "execution_count": 36,
   "metadata": {},
   "outputs": [
    {
     "data": {
      "text/plain": [
       "(39717, 40)"
      ]
     },
     "execution_count": 36,
     "metadata": {},
     "output_type": "execute_result"
    }
   ],
   "source": [
    "loan_df.shape"
   ]
  },
  {
   "cell_type": "code",
   "execution_count": 37,
   "metadata": {},
   "outputs": [],
   "source": [
    "# Deleting emp_title column as it will not contribute in data analysis\n",
    "\n",
    "loan_df.drop('emp_title',axis=1,inplace=True)"
   ]
  },
  {
   "cell_type": "markdown",
   "metadata": {},
   "source": [
    "## Data Conversion"
   ]
  },
  {
   "cell_type": "code",
   "execution_count": 39,
   "metadata": {},
   "outputs": [
    {
     "data": {
      "text/plain": [
       "loan_amnt                    int64\n",
       "funded_amnt                  int64\n",
       "funded_amnt_inv            float64\n",
       "term                        object\n",
       "int_rate                    object\n",
       "installment                float64\n",
       "grade                       object\n",
       "sub_grade                   object\n",
       "emp_length                  object\n",
       "home_ownership              object\n",
       "annual_inc                 float64\n",
       "verification_status         object\n",
       "issue_d                     object\n",
       "loan_status                 object\n",
       "purpose                     object\n",
       "zip_code                    object\n",
       "addr_state                  object\n",
       "dti                        float64\n",
       "delinq_2yrs                  int64\n",
       "earliest_cr_line            object\n",
       "inq_last_6mths               int64\n",
       "open_acc                     int64\n",
       "pub_rec                      int64\n",
       "revol_bal                    int64\n",
       "revol_util                  object\n",
       "total_acc                    int64\n",
       "out_prncp                  float64\n",
       "out_prncp_inv              float64\n",
       "total_pymnt                float64\n",
       "total_pymnt_inv            float64\n",
       "total_rec_prncp            float64\n",
       "total_rec_int              float64\n",
       "total_rec_late_fee         float64\n",
       "recoveries                 float64\n",
       "collection_recovery_fee    float64\n",
       "last_pymnt_d                object\n",
       "last_pymnt_amnt            float64\n",
       "last_credit_pull_d          object\n",
       "pub_rec_bankruptcies       float64\n",
       "dtype: object"
      ]
     },
     "execution_count": 39,
     "metadata": {},
     "output_type": "execute_result"
    }
   ],
   "source": [
    "loan_df.dtypes"
   ]
  },
  {
   "cell_type": "code",
   "execution_count": 40,
   "metadata": {},
   "outputs": [
    {
     "data": {
      "text/plain": [
       "term\n",
       "36 months    29096\n",
       "60 months    10621\n",
       "Name: count, dtype: int64"
      ]
     },
     "execution_count": 40,
     "metadata": {},
     "output_type": "execute_result"
    }
   ],
   "source": [
    "# Convert term column into int type\n",
    "\n",
    "loan_df.term.value_counts()"
   ]
  },
  {
   "cell_type": "code",
   "execution_count": null,
   "metadata": {},
   "outputs": [],
   "source": [
    "# clean term column\n",
    "def termclean(value):\n",
    "    return int(value.strip().split()[0])\n",
    "\n",
    "loan_df.term = loan_df.term.apply(termclean)\n"
   ]
  },
  {
   "cell_type": "code",
   "execution_count": 43,
   "metadata": {},
   "outputs": [
    {
     "data": {
      "text/plain": [
       "dtype('int64')"
      ]
     },
     "execution_count": 43,
     "metadata": {},
     "output_type": "execute_result"
    }
   ],
   "source": [
    "#post column clean up data type of the column is changed to int\n",
    "loan_df.term.dtype"
   ]
  },
  {
   "cell_type": "code",
   "execution_count": 44,
   "metadata": {},
   "outputs": [
    {
     "data": {
      "text/plain": [
       "int_rate\n",
       "10.99%    956\n",
       "13.49%    826\n",
       "11.49%    825\n",
       "7.51%     787\n",
       "7.88%     725\n",
       "         ... \n",
       "18.36%      1\n",
       "16.96%      1\n",
       "16.15%      1\n",
       "16.01%      1\n",
       "17.44%      1\n",
       "Name: count, Length: 371, dtype: int64"
      ]
     },
     "execution_count": 44,
     "metadata": {},
     "output_type": "execute_result"
    }
   ],
   "source": [
    "loan_df.int_rate.value_counts()"
   ]
  },
  {
   "cell_type": "code",
   "execution_count": 46,
   "metadata": {},
   "outputs": [
    {
     "data": {
      "text/plain": [
       "0        10.65\n",
       "1        15.27\n",
       "2        15.96\n",
       "3        13.49\n",
       "4        12.69\n",
       "         ...  \n",
       "39712     8.07\n",
       "39713    10.28\n",
       "39714     8.07\n",
       "39715     7.43\n",
       "39716    13.75\n",
       "Name: int_rate, Length: 39717, dtype: float64"
      ]
     },
     "execution_count": 46,
     "metadata": {},
     "output_type": "execute_result"
    }
   ],
   "source": [
    "#convert int_rate column to float\n",
    "loan_df.int_rate.astype(str).replace(\"%\",\"\",regex=True).astype('float')"
   ]
  },
  {
   "cell_type": "code",
   "execution_count": 47,
   "metadata": {},
   "outputs": [
    {
     "data": {
      "text/plain": [
       "loan_amnt\n",
       "10000    2833\n",
       "12000    2334\n",
       "5000     2051\n",
       "6000     1908\n",
       "15000    1895\n",
       "         ... \n",
       "22875       1\n",
       "8175        1\n",
       "19475       1\n",
       "21225       1\n",
       "22550       1\n",
       "Name: count, Length: 885, dtype: int64"
      ]
     },
     "execution_count": 47,
     "metadata": {},
     "output_type": "execute_result"
    }
   ],
   "source": [
    "loan_df.loan_amnt.value_counts()"
   ]
  },
  {
   "cell_type": "code",
   "execution_count": 48,
   "metadata": {},
   "outputs": [
    {
     "data": {
      "text/html": [
       "<div>\n",
       "<style scoped>\n",
       "    .dataframe tbody tr th:only-of-type {\n",
       "        vertical-align: middle;\n",
       "    }\n",
       "\n",
       "    .dataframe tbody tr th {\n",
       "        vertical-align: top;\n",
       "    }\n",
       "\n",
       "    .dataframe thead th {\n",
       "        text-align: right;\n",
       "    }\n",
       "</style>\n",
       "<table border=\"1\" class=\"dataframe\">\n",
       "  <thead>\n",
       "    <tr style=\"text-align: right;\">\n",
       "      <th></th>\n",
       "      <th>loan_amnt</th>\n",
       "      <th>funded_amnt</th>\n",
       "      <th>funded_amnt_inv</th>\n",
       "      <th>term</th>\n",
       "      <th>int_rate</th>\n",
       "      <th>installment</th>\n",
       "      <th>grade</th>\n",
       "      <th>sub_grade</th>\n",
       "      <th>emp_length</th>\n",
       "      <th>home_ownership</th>\n",
       "      <th>...</th>\n",
       "      <th>total_pymnt_inv</th>\n",
       "      <th>total_rec_prncp</th>\n",
       "      <th>total_rec_int</th>\n",
       "      <th>total_rec_late_fee</th>\n",
       "      <th>recoveries</th>\n",
       "      <th>collection_recovery_fee</th>\n",
       "      <th>last_pymnt_d</th>\n",
       "      <th>last_pymnt_amnt</th>\n",
       "      <th>last_credit_pull_d</th>\n",
       "      <th>pub_rec_bankruptcies</th>\n",
       "    </tr>\n",
       "  </thead>\n",
       "  <tbody>\n",
       "    <tr>\n",
       "      <th>0</th>\n",
       "      <td>5000.0</td>\n",
       "      <td>5000.0</td>\n",
       "      <td>4975.0</td>\n",
       "      <td>36</td>\n",
       "      <td>10.65%</td>\n",
       "      <td>162.87</td>\n",
       "      <td>B</td>\n",
       "      <td>B2</td>\n",
       "      <td>10+ years</td>\n",
       "      <td>RENT</td>\n",
       "      <td>...</td>\n",
       "      <td>5833.84</td>\n",
       "      <td>5000.00</td>\n",
       "      <td>863.16</td>\n",
       "      <td>0.00</td>\n",
       "      <td>0.00</td>\n",
       "      <td>0.00</td>\n",
       "      <td>Jan-15</td>\n",
       "      <td>171.62</td>\n",
       "      <td>May-16</td>\n",
       "      <td>0.0</td>\n",
       "    </tr>\n",
       "    <tr>\n",
       "      <th>1</th>\n",
       "      <td>2500.0</td>\n",
       "      <td>2500.0</td>\n",
       "      <td>2500.0</td>\n",
       "      <td>60</td>\n",
       "      <td>15.27%</td>\n",
       "      <td>59.83</td>\n",
       "      <td>C</td>\n",
       "      <td>C4</td>\n",
       "      <td>&lt; 1 year</td>\n",
       "      <td>RENT</td>\n",
       "      <td>...</td>\n",
       "      <td>1008.71</td>\n",
       "      <td>456.46</td>\n",
       "      <td>435.17</td>\n",
       "      <td>0.00</td>\n",
       "      <td>117.08</td>\n",
       "      <td>1.11</td>\n",
       "      <td>Apr-13</td>\n",
       "      <td>119.66</td>\n",
       "      <td>Sep-13</td>\n",
       "      <td>0.0</td>\n",
       "    </tr>\n",
       "    <tr>\n",
       "      <th>2</th>\n",
       "      <td>2400.0</td>\n",
       "      <td>2400.0</td>\n",
       "      <td>2400.0</td>\n",
       "      <td>36</td>\n",
       "      <td>15.96%</td>\n",
       "      <td>84.33</td>\n",
       "      <td>C</td>\n",
       "      <td>C5</td>\n",
       "      <td>10+ years</td>\n",
       "      <td>RENT</td>\n",
       "      <td>...</td>\n",
       "      <td>3005.67</td>\n",
       "      <td>2400.00</td>\n",
       "      <td>605.67</td>\n",
       "      <td>0.00</td>\n",
       "      <td>0.00</td>\n",
       "      <td>0.00</td>\n",
       "      <td>Jun-14</td>\n",
       "      <td>649.91</td>\n",
       "      <td>May-16</td>\n",
       "      <td>0.0</td>\n",
       "    </tr>\n",
       "    <tr>\n",
       "      <th>3</th>\n",
       "      <td>10000.0</td>\n",
       "      <td>10000.0</td>\n",
       "      <td>10000.0</td>\n",
       "      <td>36</td>\n",
       "      <td>13.49%</td>\n",
       "      <td>339.31</td>\n",
       "      <td>C</td>\n",
       "      <td>C1</td>\n",
       "      <td>10+ years</td>\n",
       "      <td>RENT</td>\n",
       "      <td>...</td>\n",
       "      <td>12231.89</td>\n",
       "      <td>10000.00</td>\n",
       "      <td>2214.92</td>\n",
       "      <td>16.97</td>\n",
       "      <td>0.00</td>\n",
       "      <td>0.00</td>\n",
       "      <td>Jan-15</td>\n",
       "      <td>357.48</td>\n",
       "      <td>Apr-16</td>\n",
       "      <td>0.0</td>\n",
       "    </tr>\n",
       "    <tr>\n",
       "      <th>4</th>\n",
       "      <td>3000.0</td>\n",
       "      <td>3000.0</td>\n",
       "      <td>3000.0</td>\n",
       "      <td>60</td>\n",
       "      <td>12.69%</td>\n",
       "      <td>67.79</td>\n",
       "      <td>B</td>\n",
       "      <td>B5</td>\n",
       "      <td>1 year</td>\n",
       "      <td>RENT</td>\n",
       "      <td>...</td>\n",
       "      <td>3513.33</td>\n",
       "      <td>2475.94</td>\n",
       "      <td>1037.39</td>\n",
       "      <td>0.00</td>\n",
       "      <td>0.00</td>\n",
       "      <td>0.00</td>\n",
       "      <td>May-16</td>\n",
       "      <td>67.79</td>\n",
       "      <td>May-16</td>\n",
       "      <td>0.0</td>\n",
       "    </tr>\n",
       "    <tr>\n",
       "      <th>...</th>\n",
       "      <td>...</td>\n",
       "      <td>...</td>\n",
       "      <td>...</td>\n",
       "      <td>...</td>\n",
       "      <td>...</td>\n",
       "      <td>...</td>\n",
       "      <td>...</td>\n",
       "      <td>...</td>\n",
       "      <td>...</td>\n",
       "      <td>...</td>\n",
       "      <td>...</td>\n",
       "      <td>...</td>\n",
       "      <td>...</td>\n",
       "      <td>...</td>\n",
       "      <td>...</td>\n",
       "      <td>...</td>\n",
       "      <td>...</td>\n",
       "      <td>...</td>\n",
       "      <td>...</td>\n",
       "      <td>...</td>\n",
       "      <td>...</td>\n",
       "    </tr>\n",
       "    <tr>\n",
       "      <th>39712</th>\n",
       "      <td>2500.0</td>\n",
       "      <td>2500.0</td>\n",
       "      <td>1075.0</td>\n",
       "      <td>36</td>\n",
       "      <td>8.07%</td>\n",
       "      <td>78.42</td>\n",
       "      <td>A</td>\n",
       "      <td>A4</td>\n",
       "      <td>4 years</td>\n",
       "      <td>MORTGAGE</td>\n",
       "      <td>...</td>\n",
       "      <td>1213.88</td>\n",
       "      <td>2500.00</td>\n",
       "      <td>322.97</td>\n",
       "      <td>0.00</td>\n",
       "      <td>0.00</td>\n",
       "      <td>0.00</td>\n",
       "      <td>Jul-10</td>\n",
       "      <td>80.90</td>\n",
       "      <td>Jun-10</td>\n",
       "      <td>NaN</td>\n",
       "    </tr>\n",
       "    <tr>\n",
       "      <th>39713</th>\n",
       "      <td>8500.0</td>\n",
       "      <td>8500.0</td>\n",
       "      <td>875.0</td>\n",
       "      <td>36</td>\n",
       "      <td>10.28%</td>\n",
       "      <td>275.38</td>\n",
       "      <td>C</td>\n",
       "      <td>C1</td>\n",
       "      <td>3 years</td>\n",
       "      <td>RENT</td>\n",
       "      <td>...</td>\n",
       "      <td>1020.51</td>\n",
       "      <td>8500.00</td>\n",
       "      <td>1413.49</td>\n",
       "      <td>0.00</td>\n",
       "      <td>0.00</td>\n",
       "      <td>0.00</td>\n",
       "      <td>Jul-10</td>\n",
       "      <td>281.94</td>\n",
       "      <td>Jul-10</td>\n",
       "      <td>NaN</td>\n",
       "    </tr>\n",
       "    <tr>\n",
       "      <th>39714</th>\n",
       "      <td>5000.0</td>\n",
       "      <td>5000.0</td>\n",
       "      <td>1325.0</td>\n",
       "      <td>36</td>\n",
       "      <td>8.07%</td>\n",
       "      <td>156.84</td>\n",
       "      <td>A</td>\n",
       "      <td>A4</td>\n",
       "      <td>&lt; 1 year</td>\n",
       "      <td>MORTGAGE</td>\n",
       "      <td>...</td>\n",
       "      <td>1397.12</td>\n",
       "      <td>5000.00</td>\n",
       "      <td>272.16</td>\n",
       "      <td>0.00</td>\n",
       "      <td>0.00</td>\n",
       "      <td>0.00</td>\n",
       "      <td>Apr-08</td>\n",
       "      <td>0.00</td>\n",
       "      <td>Jun-07</td>\n",
       "      <td>NaN</td>\n",
       "    </tr>\n",
       "    <tr>\n",
       "      <th>39715</th>\n",
       "      <td>5000.0</td>\n",
       "      <td>5000.0</td>\n",
       "      <td>650.0</td>\n",
       "      <td>36</td>\n",
       "      <td>7.43%</td>\n",
       "      <td>155.38</td>\n",
       "      <td>A</td>\n",
       "      <td>A2</td>\n",
       "      <td>&lt; 1 year</td>\n",
       "      <td>MORTGAGE</td>\n",
       "      <td>...</td>\n",
       "      <td>672.66</td>\n",
       "      <td>5000.00</td>\n",
       "      <td>174.20</td>\n",
       "      <td>0.00</td>\n",
       "      <td>0.00</td>\n",
       "      <td>0.00</td>\n",
       "      <td>Jan-08</td>\n",
       "      <td>0.00</td>\n",
       "      <td>Jun-07</td>\n",
       "      <td>NaN</td>\n",
       "    </tr>\n",
       "    <tr>\n",
       "      <th>39716</th>\n",
       "      <td>7500.0</td>\n",
       "      <td>7500.0</td>\n",
       "      <td>800.0</td>\n",
       "      <td>36</td>\n",
       "      <td>13.75%</td>\n",
       "      <td>255.43</td>\n",
       "      <td>E</td>\n",
       "      <td>E2</td>\n",
       "      <td>&lt; 1 year</td>\n",
       "      <td>OWN</td>\n",
       "      <td>...</td>\n",
       "      <td>980.83</td>\n",
       "      <td>7500.00</td>\n",
       "      <td>1695.26</td>\n",
       "      <td>0.00</td>\n",
       "      <td>0.00</td>\n",
       "      <td>0.00</td>\n",
       "      <td>Jun-10</td>\n",
       "      <td>256.59</td>\n",
       "      <td>Jun-10</td>\n",
       "      <td>NaN</td>\n",
       "    </tr>\n",
       "  </tbody>\n",
       "</table>\n",
       "<p>39717 rows × 39 columns</p>\n",
       "</div>"
      ],
      "text/plain": [
       "       loan_amnt  funded_amnt  funded_amnt_inv  term int_rate  installment  \\\n",
       "0         5000.0       5000.0           4975.0    36   10.65%       162.87   \n",
       "1         2500.0       2500.0           2500.0    60   15.27%        59.83   \n",
       "2         2400.0       2400.0           2400.0    36   15.96%        84.33   \n",
       "3        10000.0      10000.0          10000.0    36   13.49%       339.31   \n",
       "4         3000.0       3000.0           3000.0    60   12.69%        67.79   \n",
       "...          ...          ...              ...   ...      ...          ...   \n",
       "39712     2500.0       2500.0           1075.0    36    8.07%        78.42   \n",
       "39713     8500.0       8500.0            875.0    36   10.28%       275.38   \n",
       "39714     5000.0       5000.0           1325.0    36    8.07%       156.84   \n",
       "39715     5000.0       5000.0            650.0    36    7.43%       155.38   \n",
       "39716     7500.0       7500.0            800.0    36   13.75%       255.43   \n",
       "\n",
       "      grade sub_grade emp_length home_ownership  ...  total_pymnt_inv  \\\n",
       "0         B        B2  10+ years           RENT  ...          5833.84   \n",
       "1         C        C4   < 1 year           RENT  ...          1008.71   \n",
       "2         C        C5  10+ years           RENT  ...          3005.67   \n",
       "3         C        C1  10+ years           RENT  ...         12231.89   \n",
       "4         B        B5     1 year           RENT  ...          3513.33   \n",
       "...     ...       ...        ...            ...  ...              ...   \n",
       "39712     A        A4    4 years       MORTGAGE  ...          1213.88   \n",
       "39713     C        C1    3 years           RENT  ...          1020.51   \n",
       "39714     A        A4   < 1 year       MORTGAGE  ...          1397.12   \n",
       "39715     A        A2   < 1 year       MORTGAGE  ...           672.66   \n",
       "39716     E        E2   < 1 year            OWN  ...           980.83   \n",
       "\n",
       "      total_rec_prncp total_rec_int total_rec_late_fee recoveries  \\\n",
       "0             5000.00        863.16               0.00       0.00   \n",
       "1              456.46        435.17               0.00     117.08   \n",
       "2             2400.00        605.67               0.00       0.00   \n",
       "3            10000.00       2214.92              16.97       0.00   \n",
       "4             2475.94       1037.39               0.00       0.00   \n",
       "...               ...           ...                ...        ...   \n",
       "39712         2500.00        322.97               0.00       0.00   \n",
       "39713         8500.00       1413.49               0.00       0.00   \n",
       "39714         5000.00        272.16               0.00       0.00   \n",
       "39715         5000.00        174.20               0.00       0.00   \n",
       "39716         7500.00       1695.26               0.00       0.00   \n",
       "\n",
       "      collection_recovery_fee last_pymnt_d  last_pymnt_amnt  \\\n",
       "0                        0.00       Jan-15           171.62   \n",
       "1                        1.11       Apr-13           119.66   \n",
       "2                        0.00       Jun-14           649.91   \n",
       "3                        0.00       Jan-15           357.48   \n",
       "4                        0.00       May-16            67.79   \n",
       "...                       ...          ...              ...   \n",
       "39712                    0.00       Jul-10            80.90   \n",
       "39713                    0.00       Jul-10           281.94   \n",
       "39714                    0.00       Apr-08             0.00   \n",
       "39715                    0.00       Jan-08             0.00   \n",
       "39716                    0.00       Jun-10           256.59   \n",
       "\n",
       "       last_credit_pull_d pub_rec_bankruptcies  \n",
       "0                  May-16                  0.0  \n",
       "1                  Sep-13                  0.0  \n",
       "2                  May-16                  0.0  \n",
       "3                  Apr-16                  0.0  \n",
       "4                  May-16                  0.0  \n",
       "...                   ...                  ...  \n",
       "39712              Jun-10                  NaN  \n",
       "39713              Jul-10                  NaN  \n",
       "39714              Jun-07                  NaN  \n",
       "39715              Jun-07                  NaN  \n",
       "39716              Jun-10                  NaN  \n",
       "\n",
       "[39717 rows x 39 columns]"
      ]
     },
     "execution_count": 48,
     "metadata": {},
     "output_type": "execute_result"
    }
   ],
   "source": [
    "#Convert loan_amnt and funded_amnt column to float from int\n",
    "\n",
    "loan_df.astype({'loan_amnt':'float','funded_amnt':'float'})\n"
   ]
  },
  {
   "cell_type": "code",
   "execution_count": 50,
   "metadata": {},
   "outputs": [
    {
     "data": {
      "text/plain": [
       "issue_d\n",
       "2011-12-01    2260\n",
       "2011-11-01    2223\n",
       "2011-10-01    2114\n",
       "2011-09-01    2063\n",
       "2011-08-01    1928\n",
       "2011-07-01    1870\n",
       "2011-06-01    1827\n",
       "2011-05-01    1689\n",
       "2011-04-01    1562\n",
       "2011-03-01    1443\n",
       "2011-01-01    1380\n",
       "2011-02-01    1297\n",
       "2010-12-01    1267\n",
       "2010-10-01    1132\n",
       "2010-11-01    1121\n",
       "2010-07-01    1119\n",
       "2010-09-01    1086\n",
       "2010-08-01    1078\n",
       "2010-06-01    1029\n",
       "2010-05-01     920\n",
       "2010-04-01     827\n",
       "2010-03-01     737\n",
       "2010-02-01     627\n",
       "2009-11-01     602\n",
       "2009-12-01     598\n",
       "2010-01-01     589\n",
       "2009-10-01     545\n",
       "2009-09-01     449\n",
       "2009-08-01     408\n",
       "2009-07-01     374\n",
       "2009-06-01     356\n",
       "2009-05-01     319\n",
       "2009-04-01     290\n",
       "2009-03-01     276\n",
       "2009-02-01     260\n",
       "2009-01-01     239\n",
       "2008-03-01     236\n",
       "2008-12-01     223\n",
       "2008-11-01     184\n",
       "2008-02-01     174\n",
       "2008-01-01     171\n",
       "2008-04-01     155\n",
       "2008-10-01      96\n",
       "2007-12-01      85\n",
       "2008-07-01      83\n",
       "2008-05-01      71\n",
       "2008-08-01      71\n",
       "2008-06-01      66\n",
       "2007-10-01      47\n",
       "2007-11-01      37\n",
       "2007-08-01      33\n",
       "2008-09-01      32\n",
       "2007-07-01      30\n",
       "2007-09-01      18\n",
       "2007-06-01       1\n",
       "Name: count, dtype: int64"
      ]
     },
     "execution_count": 50,
     "metadata": {},
     "output_type": "execute_result"
    }
   ],
   "source": [
    "# converting issue_d to yyyy -mm-dd format\n",
    "loan_df.issue_d = pd.to_datetime(loan_df.issue_d,format='%b-%y')\n",
    "loan_df.issue_d.value_counts()"
   ]
  },
  {
   "cell_type": "code",
   "execution_count": 51,
   "metadata": {},
   "outputs": [
    {
     "data": {
      "text/plain": [
       "loan_amnt                  0.000000\n",
       "funded_amnt                0.000000\n",
       "funded_amnt_inv            0.000000\n",
       "term                       0.000000\n",
       "int_rate                   0.000000\n",
       "installment                0.000000\n",
       "grade                      0.000000\n",
       "sub_grade                  0.000000\n",
       "emp_length                 2.706650\n",
       "home_ownership             0.000000\n",
       "annual_inc                 0.000000\n",
       "verification_status        0.000000\n",
       "issue_d                    0.000000\n",
       "loan_status                0.000000\n",
       "purpose                    0.000000\n",
       "zip_code                   0.000000\n",
       "addr_state                 0.000000\n",
       "dti                        0.000000\n",
       "delinq_2yrs                0.000000\n",
       "earliest_cr_line           0.000000\n",
       "inq_last_6mths             0.000000\n",
       "open_acc                   0.000000\n",
       "pub_rec                    0.000000\n",
       "revol_bal                  0.000000\n",
       "revol_util                 0.125891\n",
       "total_acc                  0.000000\n",
       "out_prncp                  0.000000\n",
       "out_prncp_inv              0.000000\n",
       "total_pymnt                0.000000\n",
       "total_pymnt_inv            0.000000\n",
       "total_rec_prncp            0.000000\n",
       "total_rec_int              0.000000\n",
       "total_rec_late_fee         0.000000\n",
       "recoveries                 0.000000\n",
       "collection_recovery_fee    0.000000\n",
       "last_pymnt_d               0.178765\n",
       "last_pymnt_amnt            0.000000\n",
       "last_credit_pull_d         0.005036\n",
       "pub_rec_bankruptcies       1.754916\n",
       "dtype: float64"
      ]
     },
     "execution_count": 51,
     "metadata": {},
     "output_type": "execute_result"
    }
   ],
   "source": [
    "# Checking null rows\n",
    "\n",
    "(loan_df.isnull().sum()*100)/len(loan_df)"
   ]
  },
  {
   "cell_type": "code",
   "execution_count": 53,
   "metadata": {},
   "outputs": [],
   "source": [
    "# Removing null rows from emp_length and pub_rec_bankruptcies\n",
    "\n",
    "loan_df = loan_df[loan_df.emp_length.notna()]\n",
    "\n",
    "loan_df = loan_df[loan_df.pub_rec_bankruptcies.notna()]"
   ]
  },
  {
   "cell_type": "code",
   "execution_count": 54,
   "metadata": {},
   "outputs": [
    {
     "data": {
      "text/plain": [
       "0        10+ years\n",
       "1         < 1 year\n",
       "2        10+ years\n",
       "3        10+ years\n",
       "4           1 year\n",
       "           ...    \n",
       "39562       1 year\n",
       "39573      3 years\n",
       "39623      8 years\n",
       "39666      2 years\n",
       "39680      2 years\n",
       "Name: emp_length, Length: 37945, dtype: object"
      ]
     },
     "execution_count": 54,
     "metadata": {},
     "output_type": "execute_result"
    }
   ],
   "source": [
    "loan_df.emp_length"
   ]
  },
  {
   "cell_type": "code",
   "execution_count": 55,
   "metadata": {},
   "outputs": [],
   "source": [
    "# clean emp_lenght column\n",
    "\n",
    "def strip_emp_length(x):\n",
    "    x = x.strip(\"years\")\n",
    "    x=x.strip(\"<\")\n",
    "    x=x.replace(\" \",\"\")\n",
    "    x = x.replace(\"+\",\"\")\n",
    "    return x\n",
    "loan_df.emp_length = loan_df.emp_length.apply(lambda x : strip_emp_length(x))"
   ]
  },
  {
   "cell_type": "code",
   "execution_count": 56,
   "metadata": {},
   "outputs": [
    {
     "data": {
      "text/plain": [
       "emp_length\n",
       "10    8760\n",
       "1     7564\n",
       "2     4304\n",
       "3     4034\n",
       "4     3391\n",
       "5     3249\n",
       "6     2197\n",
       "7     1751\n",
       "8     1454\n",
       "9     1241\n",
       "Name: count, dtype: int64"
      ]
     },
     "execution_count": 56,
     "metadata": {},
     "output_type": "execute_result"
    }
   ],
   "source": [
    "loan_df.emp_length.value_counts()"
   ]
  },
  {
   "cell_type": "markdown",
   "metadata": {},
   "source": [
    "# Derived Columns"
   ]
  },
  {
   "cell_type": "code",
   "execution_count": 57,
   "metadata": {},
   "outputs": [],
   "source": [
    "loan_df[\"issue_year\"] = pd.DatetimeIndex(loan_df.issue_d).year\n",
    "loan_df[\"issue_month\"] = pd.DatetimeIndex(loan_df.issue_d).month"
   ]
  },
  {
   "cell_type": "code",
   "execution_count": 58,
   "metadata": {},
   "outputs": [
    {
     "data": {
      "text/plain": [
       "{'whiskers': [<matplotlib.lines.Line2D at 0x219285ab050>,\n",
       "  <matplotlib.lines.Line2D at 0x219285ab320>],\n",
       " 'caps': [<matplotlib.lines.Line2D at 0x219285ab5c0>,\n",
       "  <matplotlib.lines.Line2D at 0x219285ab8c0>],\n",
       " 'boxes': [<matplotlib.lines.Line2D at 0x219285aa180>],\n",
       " 'medians': [<matplotlib.lines.Line2D at 0x219285abbc0>],\n",
       " 'fliers': [<matplotlib.lines.Line2D at 0x219285abec0>],\n",
       " 'means': []}"
      ]
     },
     "execution_count": 58,
     "metadata": {},
     "output_type": "execute_result"
    },
    {
     "data": {
      "image/png": "[encoded data removed]",
      "text/plain": [
       "<Figure size 640x480 with 1 Axes>"
      ]
     },
     "metadata": {},
     "output_type": "display_data"
    }
   ],
   "source": [
    "plt.boxplot(loan_df.loan_amnt)"
   ]
  },
  {
   "cell_type": "markdown",
   "metadata": {},
   "source": [
    "# Univariate Analysis"
   ]
  },
  {
   "cell_type": "code",
   "execution_count": 84,
   "metadata": {},
   "outputs": [],
   "source": [
    "# Column metadata used by functions below\n",
    "column_titles = {\n",
    "    'loan_amnt': 'Loan Amount',\n",
    "    'funded_amnt': 'Funded Amount',\n",
    "    'funded_amnt_inv': 'Funded Amount Investors',\n",
    "    'term': 'Loan Term',\n",
    "    'int_rate': 'Interest Rate',\n",
    "    'installment': 'Installment',\n",
    "    'grade': 'Grade',\n",
    "    'emp_length': 'Employment Length',\n",
    "    'home_ownership': 'Home Owner Status',\n",
    "    'annual_inc': 'Annuap Income',\n",
    "    'verification_status': 'Verification Status',\n",
    "    'issue_d': 'Issue Date',\n",
    "    'loan_status': 'Loan Status',\n",
    "    'purpose': 'Purpose of Loan',\n",
    "    'addr_state': 'State',\n",
    "    'dti': 'Debt To Income Ratio',\n",
    "    'pub_rec_bankruptcies': 'Bankruptcies Record',\n",
    "    'issue_y': 'Issue Year',\n",
    "    'issue_m': 'Issue Month',\n",
    "    'issue_q': 'Issue Quarter',\n",
    "    'loan_amnt_b': 'Loan Amount Bins',\n",
    "    'funded_amnt_inv_b': 'Investor Funded Bins',\n",
    "    'funded_amnt_b': 'Funded Amount Bins',\n",
    "    'annual_inc_b': 'Annual Income Bins',\n",
    "    'int_rate_b': 'Interest Rate Bins',\n",
    "    'dti_b': 'DTI Bins'\n",
    "}"
   ]
  },
  {
   "cell_type": "code",
   "execution_count": 59,
   "metadata": {},
   "outputs": [],
   "source": [
    "# Bucketing Loan Amount values for better understading\n",
    "\n",
    "def bucket_loan_amt(value):\n",
    "    if value <= 5000:\n",
    "        return '0-5k'\n",
    "    elif (value>5000) and (value<=10000):\n",
    "        return '5k-10k'\n",
    "    elif (value>10000) and (value<=15000):\n",
    "        return '10k-15k'\n",
    "    else:\n",
    "        return '15k-above'\n",
    "    \n",
    "#creating new column 'loan_bucket_amnt'\n",
    "loan_df[\"loan_bucket_amnt\"] = loan_df.apply(lambda x: bucket_loan_amt(x['loan_amnt']),axis=1)\n",
    "    \n"
   ]
  },
  {
   "cell_type": "code",
   "execution_count": 99,
   "metadata": {},
   "outputs": [],
   "source": [
    "# bucketing Annual Income\n",
    "\n",
    "def bucket_annual_income(value):\n",
    "    if value <= 40000:\n",
    "        return '0-40k'\n",
    "    elif (value>40000) and (value<=50000):\n",
    "        return '40k-50k'\n",
    "    elif (value>50000) and (value<=60000):\n",
    "        return '50k-60k'\n",
    "    elif (value>60000) and (value<=70000):\n",
    "        return '60k-70k'\n",
    "    elif (value>70000) and (value<=80000):\n",
    "        return '70k-80k'\n",
    "    else:\n",
    "        return '80k-above'\n",
    "    \n",
    "\n",
    "loan_df['annual_bucket_inc'] = loan_df.apply(lambda x: bucket_annual_income(x['annual_inc']),axis=1)\n"
   ]
  },
  {
   "cell_type": "code",
   "execution_count": 129,
   "metadata": {},
   "outputs": [],
   "source": [
    "# bucketing Interest rate\n",
    "\n",
    "def bucket_int_rate(value):\n",
    "    if value<=9:\n",
    "        return 'Very Low'\n",
    "    elif (value>9) and (value<=11):\n",
    "        return 'Low'\n",
    "    elif (value>11) and (value<=13):\n",
    "        return 'Moderate'\n",
    "    elif (value>13) and (value<=15):\n",
    "        return 'High'\n",
    "    else:\n",
    "        return 'Very High'\n",
    "\n",
    "loan_df['int_bucket_rate'] = loan_df.apply(lambda x: bucket_int_rate(x.int_rate),axis=1)\n"
   ]
  },
  {
   "cell_type": "code",
   "execution_count": null,
   "metadata": {},
   "outputs": [],
   "source": [
    "\n",
    "#Convert int_rate data type to float\n",
    "loan_df.int_rate.value_counts()\n",
    "\n",
    "loan_df.int_rate = loan_df.int_rate.astype(str).replace(\"%\",\"\",regex = True).astype('float')"
   ]
  },
  {
   "cell_type": "code",
   "execution_count": null,
   "metadata": {},
   "outputs": [],
   "source": [
    "#bucketting dti\n",
    "def bucket_dti(value):\n",
    "    if value<=8:\n",
    "       return 'very low'\n",
    "    elif (value>8) and (value<=12):\n",
    "        return 'low'\n",
    "    elif (value>12) and (value<=16):\n",
    "        return 'Moderate'\n",
    "    elif (value>16) and (value<=20):\n",
    "        return 'high'\n",
    "    else:\n",
    "        'very high'\n",
    "\n",
    "loan_df['dti_bucket'] = loan_df.apply(lambda x: bucket_dti(x.dti),axis=1)\n",
    "\n",
    "    "
   ]
  },
  {
   "cell_type": "code",
   "execution_count": 71,
   "metadata": {},
   "outputs": [
    {
     "data": {
      "text/plain": [
       "<Axes: ylabel='loan_amnt'>"
      ]
     },
     "execution_count": 71,
     "metadata": {},
     "output_type": "execute_result"
    },
    {
     "data": {
      "image/png": "[encoded data removed]",
      "text/plain": [
       "<Figure size 640x480 with 1 Axes>"
      ]
     },
     "metadata": {},
     "output_type": "display_data"
    }
   ],
   "source": [
    "sns.boxplot(loan_df.loan_amnt)"
   ]
  },
  {
   "cell_type": "code",
   "execution_count": 72,
   "metadata": {},
   "outputs": [
    {
     "data": {
      "text/plain": [
       "<Axes: ylabel='funded_amnt'>"
      ]
     },
     "execution_count": 72,
     "metadata": {},
     "output_type": "execute_result"
    },
    {
     "data": {
      "image/png": "[encoded data removed]",
      "text/plain": [
       "<Figure size 640x480 with 1 Axes>"
      ]
     },
     "metadata": {},
     "output_type": "display_data"
    }
   ],
   "source": [
    "sns.boxplot(loan_df.funded_amnt)"
   ]
  },
  {
   "cell_type": "code",
   "execution_count": 73,
   "metadata": {},
   "outputs": [
    {
     "data": {
      "text/plain": [
       "<Axes: ylabel='funded_amnt_inv'>"
      ]
     },
     "execution_count": 73,
     "metadata": {},
     "output_type": "execute_result"
    },
    {
     "data": {
      "image/png": "[encoded data removed]",
      "text/plain": [
       "<Figure size 640x480 with 1 Axes>"
      ]
     },
     "metadata": {},
     "output_type": "display_data"
    }
   ],
   "source": [
    "sns.boxplot(loan_df.funded_amnt_inv)"
   ]
  },
  {
   "cell_type": "code",
   "execution_count": 74,
   "metadata": {},
   "outputs": [
    {
     "data": {
      "text/plain": [
       "<Axes: ylabel='dti'>"
      ]
     },
     "execution_count": 74,
     "metadata": {},
     "output_type": "execute_result"
    },
    {
     "data": {
      "image/png": "[encoded data removed]",
      "text/plain": [
       "<Figure size 640x480 with 1 Axes>"
      ]
     },
     "metadata": {},
     "output_type": "display_data"
    }
   ],
   "source": [
    "sns.boxplot(loan_df.dti)"
   ]
  },
  {
   "cell_type": "code",
   "execution_count": null,
   "metadata": {},
   "outputs": [],
   "source": [
    "# most of the plots for the amounts attributes contains outliers."
   ]
  },
  {
   "cell_type": "code",
   "execution_count": 75,
   "metadata": {},
   "outputs": [],
   "source": [
    "#Remove outliers from columns\n",
    "\n",
    "outlier_col_set1 = ['loan_amnt','funded_amnt','funded_amnt_inv']\n",
    "outlier_col_set2 = ['int_rate','installment','annual_inc']\n",
    "\n",
    "def remove_outlier(data,columns,threshold):\n",
    "    for col in columns:\n",
    "        q1 = data[col].quantile(0.25)\n",
    "        q3 = data[col].quantile(0.75)\n",
    "        iqr = q3-q1\n",
    "        lower_bound = q1-threshold*iqr\n",
    "        upper_bound = q3+threshold*iqr\n",
    "        data = data[(data[col]>=lower_bound) & (data[col] <=upper_bound)]\n",
    "\n",
    "    return data\n",
    "\n",
    "loan_df = remove_outlier(loan_df,outlier_col_set1,1.5)\n",
    "loan_df = remove_outlier(loan_df,outlier_col_set2,1.5)\n",
    "\n",
    "\n"
   ]
  },
  {
   "cell_type": "code",
   "execution_count": 76,
   "metadata": {},
   "outputs": [
    {
     "data": {
      "text/plain": [
       "<Axes: ylabel='loan_amnt'>"
      ]
     },
     "execution_count": 76,
     "metadata": {},
     "output_type": "execute_result"
    },
    {
     "data": {
      "image/png": "[encoded data removed]",
      "text/plain": [
       "<Figure size 640x480 with 1 Axes>"
      ]
     },
     "metadata": {},
     "output_type": "display_data"
    }
   ],
   "source": [
    "sns.boxplot(loan_df.loan_amnt)"
   ]
  },
  {
   "cell_type": "code",
   "execution_count": 77,
   "metadata": {},
   "outputs": [
    {
     "data": {
      "text/plain": [
       "<Axes: ylabel='int_rate'>"
      ]
     },
     "execution_count": 77,
     "metadata": {},
     "output_type": "execute_result"
    },
    {
     "data": {
      "image/png": "[encoded data removed]",
      "text/plain": [
       "<Figure size 640x480 with 1 Axes>"
      ]
     },
     "metadata": {},
     "output_type": "display_data"
    }
   ],
   "source": [
    "sns.boxplot(loan_df.int_rate)"
   ]
  },
  {
   "cell_type": "code",
   "execution_count": 79,
   "metadata": {},
   "outputs": [
    {
     "data": {
      "text/plain": [
       "count    34134.000000\n",
       "mean      9962.529296\n",
       "std       5893.891669\n",
       "min        500.000000\n",
       "25%       5000.000000\n",
       "50%       9000.000000\n",
       "75%      14000.000000\n",
       "max      29000.000000\n",
       "Name: loan_amnt, dtype: float64"
      ]
     },
     "execution_count": 79,
     "metadata": {},
     "output_type": "execute_result"
    }
   ],
   "source": [
    "loan_df.loan_amnt.describe()"
   ]
  },
  {
   "cell_type": "code",
   "execution_count": 82,
   "metadata": {},
   "outputs": [],
   "source": [
    "# Plot graph definition\n",
    "\n",
    "def plot_digram(df, column):\n",
    "    fig, p = plt.subplots(1,2, figsize=(16, 4))\n",
    "    sns.distplot(df.loc[df[column].notnull(), column], kde=True, hist=True, ax=p[0])\n",
    "    sns.boxplot(x=column, data=df, ax=p[1])\n",
    "    p[0].set_xlabel(column_titles[column])\n",
    "    p[1].set_xlabel(column_titles[column])\n",
    "    plt.tight_layout()\n",
    "    plt.show()\n",
    "\n",
    "    "
   ]
  },
  {
   "cell_type": "code",
   "execution_count": 85,
   "metadata": {},
   "outputs": [
    {
     "data": {
      "image/png": "[encoded data removed]",
      "text/plain": [
       "<Figure size 1600x400 with 2 Axes>"
      ]
     },
     "metadata": {},
     "output_type": "display_data"
    }
   ],
   "source": [
    "plot_digram(loan_df,'loan_amnt')"
   ]
  },
  {
   "cell_type": "code",
   "execution_count": 86,
   "metadata": {},
   "outputs": [
    {
     "data": {
      "image/png": "[encoded data removed]",
      "text/plain": [
       "<Figure size 1600x400 with 2 Axes>"
      ]
     },
     "metadata": {},
     "output_type": "display_data"
    }
   ],
   "source": [
    "plot_digram(loan_df,'annual_inc')"
   ]
  },
  {
   "cell_type": "code",
   "execution_count": 87,
   "metadata": {},
   "outputs": [
    {
     "data": {
      "image/png": "[encoded data removed]",
      "text/plain": [
       "<Figure size 1600x400 with 2 Axes>"
      ]
     },
     "metadata": {},
     "output_type": "display_data"
    }
   ],
   "source": [
    "plot_digram(loan_df, 'funded_amnt')"
   ]
  },
  {
   "cell_type": "code",
   "execution_count": 89,
   "metadata": {},
   "outputs": [
    {
     "data": {
      "image/png": "[encoded data removed]",
      "text/plain": [
       "<Figure size 1600x400 with 2 Axes>"
      ]
     },
     "metadata": {},
     "output_type": "display_data"
    },
    {
     "data": {
      "text/plain": [
       "count    34134.000000\n",
       "mean        11.870825\n",
       "std          3.628425\n",
       "min          5.420000\n",
       "25%          8.940000\n",
       "50%         11.710000\n",
       "75%         14.270000\n",
       "max         22.640000\n",
       "Name: int_rate, dtype: float64"
      ]
     },
     "execution_count": 89,
     "metadata": {},
     "output_type": "execute_result"
    }
   ],
   "source": [
    "plot_digram(loan_df, 'int_rate')\n",
    "\n",
    "loan_df.int_rate.describe()"
   ]
  },
  {
   "cell_type": "code",
   "execution_count": null,
   "metadata": {},
   "outputs": [],
   "source": [
    "# Average Rate of interest of rate is 11.9%\n",
    "# Most of the interest lies between 8% to 14%"
   ]
  },
  {
   "cell_type": "code",
   "execution_count": 90,
   "metadata": {},
   "outputs": [
    {
     "data": {
      "text/plain": [
       "<Axes: xlabel='home_ownership'>"
      ]
     },
     "execution_count": 90,
     "metadata": {},
     "output_type": "execute_result"
    },
    {
     "data": {
      "image/png": "[encoded data removed]",
      "text/plain": [
       "<Figure size 640x480 with 1 Axes>"
      ]
     },
     "metadata": {},
     "output_type": "display_data"
    }
   ],
   "source": [
    "loan_df['home_ownership'].value_counts().plot.bar()"
   ]
  },
  {
   "cell_type": "code",
   "execution_count": null,
   "metadata": {},
   "outputs": [],
   "source": [
    "# Majority of loan applicants are either living on Rent or on Mortgage\n"
   ]
  },
  {
   "cell_type": "code",
   "execution_count": 101,
   "metadata": {},
   "outputs": [
    {
     "data": {
      "text/plain": [
       "annual_bucket_inc\n",
       "0-40k        9061\n",
       "80k-above    7031\n",
       "40k-50k      5570\n",
       "50k-60k      5380\n",
       "60k-70k      3855\n",
       "70k-80k      3237\n",
       "Name: count, dtype: int64"
      ]
     },
     "execution_count": 101,
     "metadata": {},
     "output_type": "execute_result"
    }
   ],
   "source": [
    "# Bivariate Analysis\n",
    "\n",
    "loan_df['annual_bucket_inc'].value_counts()"
   ]
  },
  {
   "cell_type": "code",
   "execution_count": 115,
   "metadata": {},
   "outputs": [
    {
     "name": "stdout",
     "output_type": "stream",
     "text": [
      "loan_status annual_bucket_inc  Charged Off  Current  Fully Paid\n",
      "0                       0-40k         1573      160        7328\n",
      "1                     40k-50k          807      166        4597\n",
      "2                     50k-60k          791      152        4437\n",
      "3                     60k-70k          489      102        3264\n",
      "4                     70k-80k          388       90        2759\n",
      "5                   80k-above          684      221        6126\n"
     ]
    },
    {
     "data": {
      "text/html": [
       "<div>\n",
       "<style scoped>\n",
       "    .dataframe tbody tr th:only-of-type {\n",
       "        vertical-align: middle;\n",
       "    }\n",
       "\n",
       "    .dataframe tbody tr th {\n",
       "        vertical-align: top;\n",
       "    }\n",
       "\n",
       "    .dataframe thead th {\n",
       "        text-align: right;\n",
       "    }\n",
       "</style>\n",
       "<table border=\"1\" class=\"dataframe\">\n",
       "  <thead>\n",
       "    <tr style=\"text-align: right;\">\n",
       "      <th>loan_status</th>\n",
       "      <th>annual_bucket_inc</th>\n",
       "      <th>Charged Off</th>\n",
       "      <th>Current</th>\n",
       "      <th>Fully Paid</th>\n",
       "      <th>Total</th>\n",
       "      <th>Chargedoff_Proportion</th>\n",
       "    </tr>\n",
       "  </thead>\n",
       "  <tbody>\n",
       "    <tr>\n",
       "      <th>0</th>\n",
       "      <td>0-40k</td>\n",
       "      <td>1573</td>\n",
       "      <td>160</td>\n",
       "      <td>7328</td>\n",
       "      <td>8901</td>\n",
       "      <td>0.176722</td>\n",
       "    </tr>\n",
       "    <tr>\n",
       "      <th>2</th>\n",
       "      <td>50k-60k</td>\n",
       "      <td>791</td>\n",
       "      <td>152</td>\n",
       "      <td>4437</td>\n",
       "      <td>5228</td>\n",
       "      <td>0.151301</td>\n",
       "    </tr>\n",
       "    <tr>\n",
       "      <th>1</th>\n",
       "      <td>40k-50k</td>\n",
       "      <td>807</td>\n",
       "      <td>166</td>\n",
       "      <td>4597</td>\n",
       "      <td>5404</td>\n",
       "      <td>0.149334</td>\n",
       "    </tr>\n",
       "    <tr>\n",
       "      <th>3</th>\n",
       "      <td>60k-70k</td>\n",
       "      <td>489</td>\n",
       "      <td>102</td>\n",
       "      <td>3264</td>\n",
       "      <td>3753</td>\n",
       "      <td>0.130296</td>\n",
       "    </tr>\n",
       "    <tr>\n",
       "      <th>4</th>\n",
       "      <td>70k-80k</td>\n",
       "      <td>388</td>\n",
       "      <td>90</td>\n",
       "      <td>2759</td>\n",
       "      <td>3147</td>\n",
       "      <td>0.123292</td>\n",
       "    </tr>\n",
       "    <tr>\n",
       "      <th>5</th>\n",
       "      <td>80k-above</td>\n",
       "      <td>684</td>\n",
       "      <td>221</td>\n",
       "      <td>6126</td>\n",
       "      <td>6810</td>\n",
       "      <td>0.100441</td>\n",
       "    </tr>\n",
       "  </tbody>\n",
       "</table>\n",
       "</div>"
      ],
      "text/plain": [
       "loan_status annual_bucket_inc  Charged Off  Current  Fully Paid  Total  \\\n",
       "0                       0-40k         1573      160        7328   8901   \n",
       "2                     50k-60k          791      152        4437   5228   \n",
       "1                     40k-50k          807      166        4597   5404   \n",
       "3                     60k-70k          489      102        3264   3753   \n",
       "4                     70k-80k          388       90        2759   3147   \n",
       "5                   80k-above          684      221        6126   6810   \n",
       "\n",
       "loan_status  Chargedoff_Proportion  \n",
       "0                         0.176722  \n",
       "2                         0.151301  \n",
       "1                         0.149334  \n",
       "3                         0.130296  \n",
       "4                         0.123292  \n",
       "5                         0.100441  "
      ]
     },
     "execution_count": 115,
     "metadata": {},
     "output_type": "execute_result"
    }
   ],
   "source": [
    "#Bivariate Analysis on annual income against Chargedoff_Proportion \n",
    "\n",
    "inc_range_vs_loan = loan_df.groupby(['annual_bucket_inc','loan_status']).loan_status.count().unstack().fillna(0).reset_index()\n",
    "print(inc_range_vs_loan)\n",
    "inc_range_vs_loan['Total'] = inc_range_vs_loan['Charged Off']+ inc_range_vs_loan['Fully Paid']\n",
    "inc_range_vs_loan['Chargedoff_Proportion'] = inc_range_vs_loan['Charged Off'] / inc_range_vs_loan['Total']\n",
    "inc_range_vs_loan.sort_values('Chargedoff_Proportion', ascending=False)"
   ]
  },
  {
   "cell_type": "code",
   "execution_count": 120,
   "metadata": {},
   "outputs": [
    {
     "data": {
      "image/png": "[encoded data removed]",
      "text/plain": [
       "<Figure size 1100x600 with 1 Axes>"
      ]
     },
     "metadata": {},
     "output_type": "display_data"
    }
   ],
   "source": [
    "# Lets draw bar plots on data calculated above. Try to visualize the pattern to understand the data better.\n",
    "\n",
    "fig, ax1 = plt.subplots(figsize=(11, 6),facecolor='g')\n",
    "ax1.set_title('Annual Income vs Chargedoff Proportion',fontsize=15,color = 'w')\n",
    "ax1=sns.barplot(x='annual_bucket_inc', y='Chargedoff_Proportion', data=inc_range_vs_loan, color = 'y')\n",
    "ax1.set_ylabel('Chargedoff Proportion',fontsize=14,color = 'w')\n",
    "ax1.set_xlabel('Annual Income',fontsize=14,color='w')\n",
    "plt.show()"
   ]
  },
  {
   "cell_type": "code",
   "execution_count": null,
   "metadata": {},
   "outputs": [],
   "source": [
    "# Observations:\n",
    "# Income range of 0-40k has more chances of charged off.\n",
    "# Income range 80k-above has less chances of charged off.\n",
    "# Anuual income is inversely proportional with the charged off proportion."
   ]
  },
  {
   "cell_type": "code",
   "execution_count": 130,
   "metadata": {},
   "outputs": [
    {
     "data": {
      "text/html": [
       "<div>\n",
       "<style scoped>\n",
       "    .dataframe tbody tr th:only-of-type {\n",
       "        vertical-align: middle;\n",
       "    }\n",
       "\n",
       "    .dataframe tbody tr th {\n",
       "        vertical-align: top;\n",
       "    }\n",
       "\n",
       "    .dataframe thead th {\n",
       "        text-align: right;\n",
       "    }\n",
       "</style>\n",
       "<table border=\"1\" class=\"dataframe\">\n",
       "  <thead>\n",
       "    <tr style=\"text-align: right;\">\n",
       "      <th>loan_status</th>\n",
       "      <th>int_bucket_rate</th>\n",
       "      <th>Charged Off</th>\n",
       "      <th>Current</th>\n",
       "      <th>Fully Paid</th>\n",
       "      <th>Total</th>\n",
       "      <th>Chargedoff_Proportion</th>\n",
       "    </tr>\n",
       "  </thead>\n",
       "  <tbody>\n",
       "    <tr>\n",
       "      <th>3</th>\n",
       "      <td>Very High</td>\n",
       "      <td>1686</td>\n",
       "      <td>411</td>\n",
       "      <td>4769</td>\n",
       "      <td>6455</td>\n",
       "      <td>0.261193</td>\n",
       "    </tr>\n",
       "    <tr>\n",
       "      <th>0</th>\n",
       "      <td>High</td>\n",
       "      <td>986</td>\n",
       "      <td>151</td>\n",
       "      <td>4855</td>\n",
       "      <td>5841</td>\n",
       "      <td>0.168807</td>\n",
       "    </tr>\n",
       "    <tr>\n",
       "      <th>2</th>\n",
       "      <td>Moderate</td>\n",
       "      <td>962</td>\n",
       "      <td>187</td>\n",
       "      <td>5643</td>\n",
       "      <td>6605</td>\n",
       "      <td>0.145647</td>\n",
       "    </tr>\n",
       "    <tr>\n",
       "      <th>1</th>\n",
       "      <td>Low</td>\n",
       "      <td>579</td>\n",
       "      <td>106</td>\n",
       "      <td>4989</td>\n",
       "      <td>5568</td>\n",
       "      <td>0.103987</td>\n",
       "    </tr>\n",
       "    <tr>\n",
       "      <th>4</th>\n",
       "      <td>Very Low</td>\n",
       "      <td>519</td>\n",
       "      <td>36</td>\n",
       "      <td>8255</td>\n",
       "      <td>8774</td>\n",
       "      <td>0.059152</td>\n",
       "    </tr>\n",
       "  </tbody>\n",
       "</table>\n",
       "</div>"
      ],
      "text/plain": [
       "loan_status int_bucket_rate  Charged Off  Current  Fully Paid  Total  \\\n",
       "3                 Very High         1686      411        4769   6455   \n",
       "0                      High          986      151        4855   5841   \n",
       "2                  Moderate          962      187        5643   6605   \n",
       "1                       Low          579      106        4989   5568   \n",
       "4                  Very Low          519       36        8255   8774   \n",
       "\n",
       "loan_status  Chargedoff_Proportion  \n",
       "3                         0.261193  \n",
       "0                         0.168807  \n",
       "2                         0.145647  \n",
       "1                         0.103987  \n",
       "4                         0.059152  "
      ]
     },
     "execution_count": 130,
     "metadata": {},
     "output_type": "execute_result"
    }
   ],
   "source": [
    "#Bivariate Analysis on Intrest rate  against Chargedoff_Proportion -\n",
    "\n",
    "interest_vs_loan = loan_df.groupby(['int_bucket_rate', 'loan_status']).loan_status.count().unstack().fillna(0).reset_index()\n",
    "\n",
    "interest_vs_loan['Total'] = interest_vs_loan['Charged Off']+ interest_vs_loan['Fully Paid']\n",
    "\n",
    "interest_vs_loan['Chargedoff_Proportion'] = interest_vs_loan['Charged Off'] / interest_vs_loan['Total']\n",
    "\n",
    "interest_vs_loan.sort_values('Chargedoff_Proportion', ascending=False)"
   ]
  },
  {
   "cell_type": "code",
   "execution_count": 131,
   "metadata": {},
   "outputs": [
    {
     "data": {
      "image/png": "[encoded data removed]",
      "text/plain": [
       "<Figure size 1100x700 with 1 Axes>"
      ]
     },
     "metadata": {},
     "output_type": "display_data"
    }
   ],
   "source": [
    "fig, ax1 = plt.subplots(figsize=(11, 7),facecolor='g')\n",
    "ax1.set_title('Interest Rate vs Chargedoff Proportion',fontsize=15,color='w')\n",
    "ax1=sns.barplot(x='int_bucket_rate', y='Chargedoff_Proportion', data=interest_vs_loan,color = 'y')\n",
    "ax1.set_xlabel('Interest Rate',fontsize=14,color='w')\n",
    "ax1.set_ylabel('Chargedoff Proportion',fontsize=14,color = 'w')\n",
    "plt.show()"
   ]
  },
  {
   "cell_type": "code",
   "execution_count": null,
   "metadata": {},
   "outputs": [],
   "source": [
    "#Observation\n",
    "\n",
    "# Very high interest rate has more chances of being charged off.\n",
    "# Very low interest rate has less chances of being charged off."
   ]
  },
  {
   "cell_type": "code",
   "execution_count": 132,
   "metadata": {},
   "outputs": [
    {
     "data": {
      "text/html": [
       "<div>\n",
       "<style scoped>\n",
       "    .dataframe tbody tr th:only-of-type {\n",
       "        vertical-align: middle;\n",
       "    }\n",
       "\n",
       "    .dataframe tbody tr th {\n",
       "        vertical-align: top;\n",
       "    }\n",
       "\n",
       "    .dataframe thead th {\n",
       "        text-align: right;\n",
       "    }\n",
       "</style>\n",
       "<table border=\"1\" class=\"dataframe\">\n",
       "  <thead>\n",
       "    <tr style=\"text-align: right;\">\n",
       "      <th>loan_status</th>\n",
       "      <th>home_ownership</th>\n",
       "      <th>Charged Off</th>\n",
       "      <th>Current</th>\n",
       "      <th>Fully Paid</th>\n",
       "      <th>Total</th>\n",
       "      <th>Chargedoff_Proportion</th>\n",
       "    </tr>\n",
       "  </thead>\n",
       "  <tbody>\n",
       "    <tr>\n",
       "      <th>1</th>\n",
       "      <td>OTHER</td>\n",
       "      <td>16.0</td>\n",
       "      <td>0.0</td>\n",
       "      <td>73.0</td>\n",
       "      <td>89.0</td>\n",
       "      <td>0.179775</td>\n",
       "    </tr>\n",
       "    <tr>\n",
       "      <th>3</th>\n",
       "      <td>RENT</td>\n",
       "      <td>2498.0</td>\n",
       "      <td>364.0</td>\n",
       "      <td>14170.0</td>\n",
       "      <td>16668.0</td>\n",
       "      <td>0.149868</td>\n",
       "    </tr>\n",
       "    <tr>\n",
       "      <th>2</th>\n",
       "      <td>OWN</td>\n",
       "      <td>357.0</td>\n",
       "      <td>61.0</td>\n",
       "      <td>2123.0</td>\n",
       "      <td>2480.0</td>\n",
       "      <td>0.143952</td>\n",
       "    </tr>\n",
       "    <tr>\n",
       "      <th>0</th>\n",
       "      <td>MORTGAGE</td>\n",
       "      <td>1861.0</td>\n",
       "      <td>466.0</td>\n",
       "      <td>12145.0</td>\n",
       "      <td>14006.0</td>\n",
       "      <td>0.132872</td>\n",
       "    </tr>\n",
       "  </tbody>\n",
       "</table>\n",
       "</div>"
      ],
      "text/plain": [
       "loan_status home_ownership  Charged Off  Current  Fully Paid    Total  \\\n",
       "1                    OTHER         16.0      0.0        73.0     89.0   \n",
       "3                     RENT       2498.0    364.0     14170.0  16668.0   \n",
       "2                      OWN        357.0     61.0      2123.0   2480.0   \n",
       "0                 MORTGAGE       1861.0    466.0     12145.0  14006.0   \n",
       "\n",
       "loan_status  Chargedoff_Proportion  \n",
       "1                         0.179775  \n",
       "3                         0.149868  \n",
       "2                         0.143952  \n",
       "0                         0.132872  "
      ]
     },
     "execution_count": 132,
     "metadata": {},
     "output_type": "execute_result"
    }
   ],
   "source": [
    "#Bivariate Analysis of Home Ownership against Chargedoff_Proportion -\n",
    "\n",
    "home_ownership_vs_loan = loan_df.groupby(['home_ownership', 'loan_status']).loan_status.count().unstack().fillna(0).reset_index()\n",
    "home_ownership_vs_loan['Total'] = home_ownership_vs_loan['Charged Off']+ home_ownership_vs_loan['Fully Paid']\n",
    "home_ownership_vs_loan['Chargedoff_Proportion'] = home_ownership_vs_loan['Charged Off'] / home_ownership_vs_loan['Total']\n",
    "home_ownership_vs_loan.sort_values('Chargedoff_Proportion', ascending=False)"
   ]
  },
  {
   "cell_type": "code",
   "execution_count": 134,
   "metadata": {},
   "outputs": [
    {
     "data": {
      "image/png": "[encoded data removed]",
      "text/plain": [
       "<Figure size 1200x800 with 1 Axes>"
      ]
     },
     "metadata": {},
     "output_type": "display_data"
    }
   ],
   "source": [
    "fig, ax1 = plt.subplots(figsize=(12, 8),facecolor='g')\n",
    "ax1.set_title('Home Ownership vs Chargedoff Proportion',fontsize=15,color='w')\n",
    "ax1=sns.barplot(x='home_ownership', y='Chargedoff_Proportion', data=home_ownership_vs_loan, color = 'y')\n",
    "ax1.set_xlabel('Home Ownership',fontsize=14,color='w')\n",
    "ax1.set_ylabel('Chargedoff Proportion',fontsize=14,color = 'w')\n",
    "plt.show()"
   ]
  },
  {
   "cell_type": "code",
   "execution_count": null,
   "metadata": {},
   "outputs": [],
   "source": [
    "# Observations:\n",
    "# who owns home has less chances of being charged off."
   ]
  },
  {
   "cell_type": "code",
   "execution_count": 135,
   "metadata": {},
   "outputs": [
    {
     "data": {
      "text/html": [
       "<div>\n",
       "<style scoped>\n",
       "    .dataframe tbody tr th:only-of-type {\n",
       "        vertical-align: middle;\n",
       "    }\n",
       "\n",
       "    .dataframe tbody tr th {\n",
       "        vertical-align: top;\n",
       "    }\n",
       "\n",
       "    .dataframe thead th {\n",
       "        text-align: right;\n",
       "    }\n",
       "</style>\n",
       "<table border=\"1\" class=\"dataframe\">\n",
       "  <thead>\n",
       "    <tr style=\"text-align: right;\">\n",
       "      <th>loan_status</th>\n",
       "      <th>issue_month</th>\n",
       "      <th>Charged Off</th>\n",
       "      <th>Current</th>\n",
       "      <th>Fully Paid</th>\n",
       "      <th>Total</th>\n",
       "      <th>Chargedoff_Proportion</th>\n",
       "    </tr>\n",
       "  </thead>\n",
       "  <tbody>\n",
       "    <tr>\n",
       "      <th>8</th>\n",
       "      <td>9</td>\n",
       "      <td>478.0</td>\n",
       "      <td>115.0</td>\n",
       "      <td>2535.0</td>\n",
       "      <td>3013.0</td>\n",
       "      <td>0.158646</td>\n",
       "    </tr>\n",
       "    <tr>\n",
       "      <th>11</th>\n",
       "      <td>12</td>\n",
       "      <td>571.0</td>\n",
       "      <td>171.0</td>\n",
       "      <td>3042.0</td>\n",
       "      <td>3613.0</td>\n",
       "      <td>0.158040</td>\n",
       "    </tr>\n",
       "    <tr>\n",
       "      <th>4</th>\n",
       "      <td>5</td>\n",
       "      <td>402.0</td>\n",
       "      <td>68.0</td>\n",
       "      <td>2190.0</td>\n",
       "      <td>2592.0</td>\n",
       "      <td>0.155093</td>\n",
       "    </tr>\n",
       "    <tr>\n",
       "      <th>5</th>\n",
       "      <td>6</td>\n",
       "      <td>413.0</td>\n",
       "      <td>86.0</td>\n",
       "      <td>2395.0</td>\n",
       "      <td>2808.0</td>\n",
       "      <td>0.147080</td>\n",
       "    </tr>\n",
       "    <tr>\n",
       "      <th>9</th>\n",
       "      <td>10</td>\n",
       "      <td>463.0</td>\n",
       "      <td>125.0</td>\n",
       "      <td>2700.0</td>\n",
       "      <td>3163.0</td>\n",
       "      <td>0.146380</td>\n",
       "    </tr>\n",
       "    <tr>\n",
       "      <th>10</th>\n",
       "      <td>11</td>\n",
       "      <td>497.0</td>\n",
       "      <td>113.0</td>\n",
       "      <td>2979.0</td>\n",
       "      <td>3476.0</td>\n",
       "      <td>0.142980</td>\n",
       "    </tr>\n",
       "    <tr>\n",
       "      <th>6</th>\n",
       "      <td>7</td>\n",
       "      <td>417.0</td>\n",
       "      <td>103.0</td>\n",
       "      <td>2535.0</td>\n",
       "      <td>2952.0</td>\n",
       "      <td>0.141260</td>\n",
       "    </tr>\n",
       "    <tr>\n",
       "      <th>7</th>\n",
       "      <td>8</td>\n",
       "      <td>406.0</td>\n",
       "      <td>106.0</td>\n",
       "      <td>2563.0</td>\n",
       "      <td>2969.0</td>\n",
       "      <td>0.136746</td>\n",
       "    </tr>\n",
       "    <tr>\n",
       "      <th>0</th>\n",
       "      <td>1</td>\n",
       "      <td>260.0</td>\n",
       "      <td>0.0</td>\n",
       "      <td>1725.0</td>\n",
       "      <td>1985.0</td>\n",
       "      <td>0.130982</td>\n",
       "    </tr>\n",
       "    <tr>\n",
       "      <th>3</th>\n",
       "      <td>4</td>\n",
       "      <td>318.0</td>\n",
       "      <td>3.0</td>\n",
       "      <td>2178.0</td>\n",
       "      <td>2496.0</td>\n",
       "      <td>0.127404</td>\n",
       "    </tr>\n",
       "    <tr>\n",
       "      <th>2</th>\n",
       "      <td>3</td>\n",
       "      <td>283.0</td>\n",
       "      <td>1.0</td>\n",
       "      <td>1981.0</td>\n",
       "      <td>2264.0</td>\n",
       "      <td>0.125000</td>\n",
       "    </tr>\n",
       "    <tr>\n",
       "      <th>1</th>\n",
       "      <td>2</td>\n",
       "      <td>224.0</td>\n",
       "      <td>0.0</td>\n",
       "      <td>1688.0</td>\n",
       "      <td>1912.0</td>\n",
       "      <td>0.117155</td>\n",
       "    </tr>\n",
       "  </tbody>\n",
       "</table>\n",
       "</div>"
      ],
      "text/plain": [
       "loan_status  issue_month  Charged Off  Current  Fully Paid   Total  \\\n",
       "8                      9        478.0    115.0      2535.0  3013.0   \n",
       "11                    12        571.0    171.0      3042.0  3613.0   \n",
       "4                      5        402.0     68.0      2190.0  2592.0   \n",
       "5                      6        413.0     86.0      2395.0  2808.0   \n",
       "9                     10        463.0    125.0      2700.0  3163.0   \n",
       "10                    11        497.0    113.0      2979.0  3476.0   \n",
       "6                      7        417.0    103.0      2535.0  2952.0   \n",
       "7                      8        406.0    106.0      2563.0  2969.0   \n",
       "0                      1        260.0      0.0      1725.0  1985.0   \n",
       "3                      4        318.0      3.0      2178.0  2496.0   \n",
       "2                      3        283.0      1.0      1981.0  2264.0   \n",
       "1                      2        224.0      0.0      1688.0  1912.0   \n",
       "\n",
       "loan_status  Chargedoff_Proportion  \n",
       "8                         0.158646  \n",
       "11                        0.158040  \n",
       "4                         0.155093  \n",
       "5                         0.147080  \n",
       "9                         0.146380  \n",
       "10                        0.142980  \n",
       "6                         0.141260  \n",
       "7                         0.136746  \n",
       "0                         0.130982  \n",
       "3                         0.127404  \n",
       "2                         0.125000  \n",
       "1                         0.117155  "
      ]
     },
     "execution_count": 135,
     "metadata": {},
     "output_type": "execute_result"
    }
   ],
   "source": [
    "# #Bivariate Analysis on Month of Issue of loan Record against Chargedoff_Proportion -\n",
    "\n",
    "issue_month_vs_loan = loan_df.groupby(['issue_month', 'loan_status']).loan_status.count().unstack().fillna(0).reset_index()\n",
    "issue_month_vs_loan['Total'] = issue_month_vs_loan['Charged Off']+ issue_month_vs_loan['Fully Paid']\n",
    "issue_month_vs_loan['Chargedoff_Proportion'] = issue_month_vs_loan['Charged Off'] / issue_month_vs_loan['Total']\n",
    "issue_month_vs_loan.sort_values('Chargedoff_Proportion', ascending=False)"
   ]
  },
  {
   "cell_type": "code",
   "execution_count": 138,
   "metadata": {},
   "outputs": [
    {
     "data": {
      "image/png": "[encoded data removed]",
      "text/plain": [
       "<Figure size 1200x800 with 1 Axes>"
      ]
     },
     "metadata": {},
     "output_type": "display_data"
    }
   ],
   "source": [
    "# graph\n",
    "fig, ax1 = plt.subplots(figsize=(12, 8),facecolor='g')\n",
    "ax1.set_title('Issue Month  vs Chargedoff Proportion',fontsize=15,color='w')\n",
    "ax1=sns.barplot(x='issue_month', y='Chargedoff_Proportion', data=issue_month_vs_loan,color = 'y')\n",
    "ax1.set_xlabel('Issue Month ',fontsize=14,color='w')\n",
    "ax1.set_ylabel('Chargedoff Proportion',fontsize=14,color = 'w')\n",
    "plt.show()"
   ]
  },
  {
   "cell_type": "code",
   "execution_count": null,
   "metadata": {},
   "outputs": [],
   "source": [
    "#Majority of loan defaults comig from applicants whose loan has been aprroved from Sept to Dec"
   ]
  },
  {
   "cell_type": "code",
   "execution_count": null,
   "metadata": {},
   "outputs": [],
   "source": []
  }
 ],
 "metadata": {
  "kernelspec": {
   "display_name": "base",
   "language": "python",
   "name": "python3"
  },
  "language_info": {
   "codemirror_mode": {
    "name": "ipython",
    "version": 3
   },
   "file_extension": ".py",
   "mimetype": "text/x-python",
   "name": "python",
   "nbconvert_exporter": "python",
   "pygments_lexer": "ipython3",
   "version": "3.12.4"
  }
 },
 "nbformat": 4,
 "nbformat_minor": 2
}
